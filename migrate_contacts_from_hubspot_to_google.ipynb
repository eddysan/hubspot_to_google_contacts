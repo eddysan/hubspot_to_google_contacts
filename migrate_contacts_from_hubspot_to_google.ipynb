{
  "nbformat": 4,
  "nbformat_minor": 0,
  "metadata": {
    "kernelspec": {
      "display_name": "Python 3",
      "language": "python",
      "name": "python3"
    },
    "language_info": {
      "codemirror_mode": {
        "name": "ipython",
        "version": 3
      },
      "file_extension": ".py",
      "mimetype": "text/x-python",
      "name": "python",
      "nbconvert_exporter": "python",
      "pygments_lexer": "ipython3",
      "version": "3.7.4"
    },
    "colab": {
      "name": "migrate_data_from_hubspot_to_google_contacts.ipynb",
      "provenance": [],
      "collapsed_sections": [],
      "include_colab_link": true
    }
  },
  "cells": [
    {
      "cell_type": "markdown",
      "metadata": {
        "id": "view-in-github",
        "colab_type": "text"
      },
      "source": [
        "<a href=\"https://colab.research.google.com/github/eddysan/hubspot_to_google_contacts/blob/main/migrate_contacts_from_hubspot_to_google.ipynb\" target=\"_parent\"><img src=\"https://colab.research.google.com/assets/colab-badge.svg\" alt=\"Open In Colab\"/></a>"
      ]
    },
    {
      "cell_type": "code",
      "metadata": {
        "id": "P-z0Np5cVU-t"
      },
      "source": [
        "# import libraries\n",
        "import pandas as pd\n",
        "import datetime as dt"
      ],
      "execution_count": null,
      "outputs": []
    },
    {
      "cell_type": "code",
      "metadata": {
        "id": "JU0ApW6P37wZ",
        "outputId": "eae75ebe-e0aa-4ad3-a313-1149a4466ec1",
        "colab": {
          "base_uri": "https://localhost:8080/",
          "height": 54
        }
      },
      "source": [
        "# mount google drive folder, where we will load hubspot csv backup\n",
        "from google.colab import drive\n",
        "drive.mount('/content/drive')"
      ],
      "execution_count": null,
      "outputs": [
        {
          "output_type": "stream",
          "text": [
            "Drive already mounted at /content/drive; to attempt to forcibly remount, call drive.mount(\"/content/drive\", force_remount=True).\n"
          ],
          "name": "stdout"
        }
      ]
    },
    {
      "cell_type": "code",
      "metadata": {
        "id": "zV4sR-9uVU-1"
      },
      "source": [
        "# google contacts csv file structure\n",
        "hsgo = pd.DataFrame(columns=['Name', 'Given Name', 'Additional Name', 'Family Name', 'Yomi Name',\n",
        "       'Given Name Yomi', 'Additional Name Yomi', 'Family Name Yomi',\n",
        "       'Name Prefix', 'Name Suffix', 'Initials', 'Nickname', 'Short Name',\n",
        "       'Maiden Name', 'Birthday', 'Gender', 'Location', 'Billing Information',\n",
        "       'Directory Server', 'Mileage', 'Occupation', 'Hobby', 'Sensitivity',\n",
        "       'Priority', 'Subject', 'Notes', 'Language', 'Photo', 'Group Membership',\n",
        "       'E-mail 1 - Type', 'E-mail 1 - Value', 'E-mail 2 - Type',\n",
        "       'E-mail 2 - Value', 'Phone 1 - Type', 'Phone 1 - Value',\n",
        "       'Phone 2 - Type', 'Phone 2 - Value', 'Organization 1 - Type',\n",
        "       'Organization 1 - Name', 'Organization 1 - Yomi Name',\n",
        "       'Organization 1 - Title', 'Organization 1 - Department',\n",
        "       'Organization 1 - Symbol', 'Organization 1 - Location',\n",
        "       'Organization 1 - Job Description', 'Relation 1 - Type',\n",
        "       'Relation 1 - Value'])"
      ],
      "execution_count": null,
      "outputs": []
    },
    {
      "cell_type": "code",
      "metadata": {
        "id": "NtwK8-kSVU-4"
      },
      "source": [
        "# load hubspot backup data\n",
        "hscon = pd.read_csv('/content/drive/My Drive/00drafts/hubspot-crm-exports-all-contacts-2020-09-19.csv')"
      ],
      "execution_count": null,
      "outputs": []
    },
    {
      "cell_type": "code",
      "metadata": {
        "id": "GYMvy2ALVU-6",
        "outputId": "30ab304d-9976-4215-cafe-0c05aff3d116",
        "colab": {
          "base_uri": "https://localhost:8080/",
          "height": 938
        }
      },
      "source": [
        "# assign columns to google contacts structure\n",
        "hsgo['Name'] = hscon['First Name'].str.strip() + \" \" + hscon['Last Name'].str.strip()\n",
        "hsgo['Given Name'] = hscon['First Name'].str.strip()\n",
        "hsgo['Additional Name'] = pd.np.NaN\n",
        "hsgo['Family Name'] = hscon['Last Name'].str.strip()\n",
        "hsgo['Yomi Name'] = pd.np.NaN\n",
        "hsgo['Given Name Yomi'] = pd.np.NaN\n",
        "hsgo['Additional Name Yomi'] = pd.np.NaN\n",
        "hsgo['Family Name Yomi'] = pd.np.NaN\n",
        "hsgo['Name Prefix'] = pd.np.NaN\n",
        "hsgo['Name Suffix'] = pd.np.NaN\n",
        "hsgo['Initials'] = pd.np.NaN\n",
        "hsgo['Nickname'] = pd.np.NaN\n",
        "hsgo['Maiden Name'] = pd.np.NaN\n",
        "hsgo['Birthday'] = pd.np.NaN\n",
        "hsgo['Gender'] = pd.np.NaN\n",
        "hsgo['Location'] = pd.np.NaN\n",
        "hsgo['Billing Information'] = pd.np.NaN\n",
        "hsgo['Directory Server'] = pd.np.NaN\n",
        "hsgo['Mileage'] = pd.np.NaN\n",
        "hsgo['Occupation'] = pd.np.NaN\n",
        "hsgo['Hobby'] = pd.np.NaN\n",
        "hsgo['Sensitivity'] = pd.np.NaN\n",
        "hsgo['Priority'] = pd.np.NaN\n",
        "hsgo['Subject'] = pd.np.NaN\n",
        "hsgo['Notes'] = pd.np.NaN\n",
        "hsgo['Language'] = pd.np.NaN\n",
        "hsgo['Photo'] = pd.np.NaN\n",
        "hsgo['Group Membership'] = pd.np.NaN\n",
        "hsgo['E-mail 1 - Type'] = pd.np.NaN\n",
        "hsgo['E-mail 1 - Value'] = hscon['Email']\n",
        "hsgo['E-mail 2 - Type'] = pd.np.NaN\n",
        "hsgo['E-mail 2 - Value'] = pd.np.NaN\n",
        "hsgo['Phone 1 - Type'] = pd.np.NaN\n",
        "hsgo['Phone 1 - Value'] = hscon['Phone Number'].str.strip()\n",
        "hsgo['Phone 2 - Type'] = pd.np.NaN\n",
        "hsgo['Phone 2 - Value'] = pd.np.NaN\n",
        "hsgo['Organization 1 - Type'] = pd.np.NaN\n",
        "hsgo['Organization 1 - Name'] = pd.np.NaN\n",
        "hsgo['Organization 1 - Yomi Name'] = pd.np.NaN\n",
        "hsgo['Organization 1 - Title'] = pd.np.NaN\n",
        "hsgo['Organization 1 - Department'] = pd.np.NaN\n",
        "hsgo['Organization 1 - Symbol'] = pd.np.NaN\n",
        "hsgo['Organization 1 - Location'] = pd.np.NaN\n",
        "hsgo['Organization 1 - Job Description'] = pd.np.NaN\n",
        "hsgo['Relation 1 - Type'] = pd.np.NaN\n",
        "hsgo['Relation 1 - Value'] = pd.np.NaN"
      ],
      "execution_count": null,
      "outputs": [
        {
          "output_type": "stream",
          "text": [
            "/usr/local/lib/python3.6/dist-packages/ipykernel_launcher.py:4: FutureWarning: The pandas.np module is deprecated and will be removed from pandas in a future version. Import numpy directly instead\n",
            "  after removing the cwd from sys.path.\n",
            "/usr/local/lib/python3.6/dist-packages/ipykernel_launcher.py:6: FutureWarning: The pandas.np module is deprecated and will be removed from pandas in a future version. Import numpy directly instead\n",
            "  \n",
            "/usr/local/lib/python3.6/dist-packages/ipykernel_launcher.py:7: FutureWarning: The pandas.np module is deprecated and will be removed from pandas in a future version. Import numpy directly instead\n",
            "  import sys\n",
            "/usr/local/lib/python3.6/dist-packages/ipykernel_launcher.py:8: FutureWarning: The pandas.np module is deprecated and will be removed from pandas in a future version. Import numpy directly instead\n",
            "  \n",
            "/usr/local/lib/python3.6/dist-packages/ipykernel_launcher.py:9: FutureWarning: The pandas.np module is deprecated and will be removed from pandas in a future version. Import numpy directly instead\n",
            "  if __name__ == '__main__':\n",
            "/usr/local/lib/python3.6/dist-packages/ipykernel_launcher.py:10: FutureWarning: The pandas.np module is deprecated and will be removed from pandas in a future version. Import numpy directly instead\n",
            "  # Remove the CWD from sys.path while we load stuff.\n",
            "/usr/local/lib/python3.6/dist-packages/ipykernel_launcher.py:11: FutureWarning: The pandas.np module is deprecated and will be removed from pandas in a future version. Import numpy directly instead\n",
            "  # This is added back by InteractiveShellApp.init_path()\n",
            "/usr/local/lib/python3.6/dist-packages/ipykernel_launcher.py:12: FutureWarning: The pandas.np module is deprecated and will be removed from pandas in a future version. Import numpy directly instead\n",
            "  if sys.path[0] == '':\n",
            "/usr/local/lib/python3.6/dist-packages/ipykernel_launcher.py:13: FutureWarning: The pandas.np module is deprecated and will be removed from pandas in a future version. Import numpy directly instead\n",
            "  del sys.path[0]\n",
            "/usr/local/lib/python3.6/dist-packages/ipykernel_launcher.py:14: FutureWarning: The pandas.np module is deprecated and will be removed from pandas in a future version. Import numpy directly instead\n",
            "  \n",
            "/usr/local/lib/python3.6/dist-packages/ipykernel_launcher.py:15: FutureWarning: The pandas.np module is deprecated and will be removed from pandas in a future version. Import numpy directly instead\n",
            "  from ipykernel import kernelapp as app\n",
            "/usr/local/lib/python3.6/dist-packages/ipykernel_launcher.py:16: FutureWarning: The pandas.np module is deprecated and will be removed from pandas in a future version. Import numpy directly instead\n",
            "  app.launch_new_instance()\n",
            "/usr/local/lib/python3.6/dist-packages/ipykernel_launcher.py:17: FutureWarning: The pandas.np module is deprecated and will be removed from pandas in a future version. Import numpy directly instead\n",
            "/usr/local/lib/python3.6/dist-packages/ipykernel_launcher.py:18: FutureWarning: The pandas.np module is deprecated and will be removed from pandas in a future version. Import numpy directly instead\n",
            "/usr/local/lib/python3.6/dist-packages/ipykernel_launcher.py:19: FutureWarning: The pandas.np module is deprecated and will be removed from pandas in a future version. Import numpy directly instead\n",
            "/usr/local/lib/python3.6/dist-packages/ipykernel_launcher.py:20: FutureWarning: The pandas.np module is deprecated and will be removed from pandas in a future version. Import numpy directly instead\n",
            "/usr/local/lib/python3.6/dist-packages/ipykernel_launcher.py:21: FutureWarning: The pandas.np module is deprecated and will be removed from pandas in a future version. Import numpy directly instead\n",
            "/usr/local/lib/python3.6/dist-packages/ipykernel_launcher.py:22: FutureWarning: The pandas.np module is deprecated and will be removed from pandas in a future version. Import numpy directly instead\n",
            "/usr/local/lib/python3.6/dist-packages/ipykernel_launcher.py:23: FutureWarning: The pandas.np module is deprecated and will be removed from pandas in a future version. Import numpy directly instead\n",
            "/usr/local/lib/python3.6/dist-packages/ipykernel_launcher.py:24: FutureWarning: The pandas.np module is deprecated and will be removed from pandas in a future version. Import numpy directly instead\n",
            "/usr/local/lib/python3.6/dist-packages/ipykernel_launcher.py:25: FutureWarning: The pandas.np module is deprecated and will be removed from pandas in a future version. Import numpy directly instead\n",
            "/usr/local/lib/python3.6/dist-packages/ipykernel_launcher.py:26: FutureWarning: The pandas.np module is deprecated and will be removed from pandas in a future version. Import numpy directly instead\n",
            "/usr/local/lib/python3.6/dist-packages/ipykernel_launcher.py:27: FutureWarning: The pandas.np module is deprecated and will be removed from pandas in a future version. Import numpy directly instead\n",
            "/usr/local/lib/python3.6/dist-packages/ipykernel_launcher.py:28: FutureWarning: The pandas.np module is deprecated and will be removed from pandas in a future version. Import numpy directly instead\n",
            "/usr/local/lib/python3.6/dist-packages/ipykernel_launcher.py:29: FutureWarning: The pandas.np module is deprecated and will be removed from pandas in a future version. Import numpy directly instead\n",
            "/usr/local/lib/python3.6/dist-packages/ipykernel_launcher.py:30: FutureWarning: The pandas.np module is deprecated and will be removed from pandas in a future version. Import numpy directly instead\n",
            "/usr/local/lib/python3.6/dist-packages/ipykernel_launcher.py:32: FutureWarning: The pandas.np module is deprecated and will be removed from pandas in a future version. Import numpy directly instead\n",
            "/usr/local/lib/python3.6/dist-packages/ipykernel_launcher.py:33: FutureWarning: The pandas.np module is deprecated and will be removed from pandas in a future version. Import numpy directly instead\n",
            "/usr/local/lib/python3.6/dist-packages/ipykernel_launcher.py:34: FutureWarning: The pandas.np module is deprecated and will be removed from pandas in a future version. Import numpy directly instead\n",
            "/usr/local/lib/python3.6/dist-packages/ipykernel_launcher.py:36: FutureWarning: The pandas.np module is deprecated and will be removed from pandas in a future version. Import numpy directly instead\n",
            "/usr/local/lib/python3.6/dist-packages/ipykernel_launcher.py:37: FutureWarning: The pandas.np module is deprecated and will be removed from pandas in a future version. Import numpy directly instead\n",
            "/usr/local/lib/python3.6/dist-packages/ipykernel_launcher.py:38: FutureWarning: The pandas.np module is deprecated and will be removed from pandas in a future version. Import numpy directly instead\n",
            "/usr/local/lib/python3.6/dist-packages/ipykernel_launcher.py:39: FutureWarning: The pandas.np module is deprecated and will be removed from pandas in a future version. Import numpy directly instead\n",
            "/usr/local/lib/python3.6/dist-packages/ipykernel_launcher.py:40: FutureWarning: The pandas.np module is deprecated and will be removed from pandas in a future version. Import numpy directly instead\n",
            "/usr/local/lib/python3.6/dist-packages/ipykernel_launcher.py:41: FutureWarning: The pandas.np module is deprecated and will be removed from pandas in a future version. Import numpy directly instead\n",
            "/usr/local/lib/python3.6/dist-packages/ipykernel_launcher.py:42: FutureWarning: The pandas.np module is deprecated and will be removed from pandas in a future version. Import numpy directly instead\n",
            "/usr/local/lib/python3.6/dist-packages/ipykernel_launcher.py:43: FutureWarning: The pandas.np module is deprecated and will be removed from pandas in a future version. Import numpy directly instead\n",
            "/usr/local/lib/python3.6/dist-packages/ipykernel_launcher.py:44: FutureWarning: The pandas.np module is deprecated and will be removed from pandas in a future version. Import numpy directly instead\n",
            "/usr/local/lib/python3.6/dist-packages/ipykernel_launcher.py:45: FutureWarning: The pandas.np module is deprecated and will be removed from pandas in a future version. Import numpy directly instead\n",
            "/usr/local/lib/python3.6/dist-packages/ipykernel_launcher.py:46: FutureWarning: The pandas.np module is deprecated and will be removed from pandas in a future version. Import numpy directly instead\n",
            "/usr/local/lib/python3.6/dist-packages/ipykernel_launcher.py:47: FutureWarning: The pandas.np module is deprecated and will be removed from pandas in a future version. Import numpy directly instead\n"
          ],
          "name": "stderr"
        }
      ]
    },
    {
      "cell_type": "code",
      "metadata": {
        "id": "9GiGu0jWVU-9"
      },
      "source": [
        "# drop null values on phone number, also it can be applied for null values on emails\n",
        "hsgo = hsgo.dropna(axis='index', subset=['Phone 1 - Value'])\n",
        "# hsgo = hsgo.dropna(axis='index', subset=['E-mail 1 - Value'])"
      ],
      "execution_count": null,
      "outputs": []
    },
    {
      "cell_type": "code",
      "metadata": {
        "id": "N40U-AwmVU_D"
      },
      "source": [
        "# export clean data to csv in google contact format, the next step is just import this file to google contact account\n",
        "hsgo.to_csv('/content/drive/My Drive/00drafts/hs_contacts_bm_' + str(dt.datetime.now().date().strftime('%Y-%m-%d')) + '_' + str(dt.datetime.now().time().strftime('%H%M%S')) + '.csv',encoding='utf-8',index=False)"
      ],
      "execution_count": null,
      "outputs": []
    },
    {
      "cell_type": "code",
      "metadata": {
        "id": "raCFunQxVU_F"
      },
      "source": [
        ""
      ],
      "execution_count": null,
      "outputs": []
    }
  ]
}