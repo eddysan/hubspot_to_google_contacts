{
  "nbformat": 4,
  "nbformat_minor": 0,
  "metadata": {
    "kernelspec": {
      "display_name": "Python 3",
      "language": "python",
      "name": "python3"
    },
    "language_info": {
      "codemirror_mode": {
        "name": "ipython",
        "version": 3
      },
      "file_extension": ".py",
      "mimetype": "text/x-python",
      "name": "python",
      "nbconvert_exporter": "python",
      "pygments_lexer": "ipython3",
      "version": "3.7.4"
    },
    "colab": {
      "name": "migrate_data_from_hubspot_to_google_contacts.ipynb",
      "provenance": [],
      "collapsed_sections": [],
      "include_colab_link": true
    }
  },
  "cells": [
    {
      "cell_type": "markdown",
      "metadata": {
        "id": "view-in-github",
        "colab_type": "text"
      },
      "source": [
        "<a href=\"https://colab.research.google.com/github/eddysan/hubspot_to_google_contacts/blob/main/migrate_contacts_from_hubspot_to_google.ipynb\" target=\"_parent\"><img src=\"https://colab.research.google.com/assets/colab-badge.svg\" alt=\"Open In Colab\"/></a>"
      ]
    },
    {
      "cell_type": "code",
      "metadata": {
        "id": "P-z0Np5cVU-t"
      },
      "source": [
        "# import libraries\n",
        "import pandas as pd\n",
        "import datetime as dt"
      ],
      "execution_count": 1,
      "outputs": []
    },
    {
      "cell_type": "code",
      "metadata": {
        "id": "JU0ApW6P37wZ",
        "outputId": "b2cf76ed-5928-4051-d1e5-6b14143fe9db",
        "colab": {
          "base_uri": "https://localhost:8080/",
          "height": 34
        }
      },
      "source": [
        "# mount google drive folder, where we will load hubspot csv backup\n",
        "from google.colab import drive\n",
        "drive.mount('/content/drive')"
      ],
      "execution_count": 2,
      "outputs": [
        {
          "output_type": "stream",
          "text": [
            "Mounted at /content/drive\n"
          ],
          "name": "stdout"
        }
      ]
    },
    {
      "cell_type": "code",
      "metadata": {
        "id": "zV4sR-9uVU-1"
      },
      "source": [
        "# google contacts csv file structure\n",
        "hsgo = pd.DataFrame(columns=['Name', 'Given Name', 'Additional Name', 'Family Name', 'Yomi Name',\n",
        "       'Given Name Yomi', 'Additional Name Yomi', 'Family Name Yomi',\n",
        "       'Name Prefix', 'Name Suffix', 'Initials', 'Nickname', 'Short Name',\n",
        "       'Maiden Name', 'Birthday', 'Gender', 'Location', 'Billing Information',\n",
        "       'Directory Server', 'Mileage', 'Occupation', 'Hobby', 'Sensitivity',\n",
        "       'Priority', 'Subject', 'Notes', 'Language', 'Photo', 'Group Membership',\n",
        "       'E-mail 1 - Type', 'E-mail 1 - Value', 'E-mail 2 - Type',\n",
        "       'E-mail 2 - Value', 'Phone 1 - Type', 'Phone 1 - Value',\n",
        "       'Phone 2 - Type', 'Phone 2 - Value', 'Organization 1 - Type',\n",
        "       'Organization 1 - Name', 'Organization 1 - Yomi Name',\n",
        "       'Organization 1 - Title', 'Organization 1 - Department',\n",
        "       'Organization 1 - Symbol', 'Organization 1 - Location',\n",
        "       'Organization 1 - Job Description', 'Relation 1 - Type',\n",
        "       'Relation 1 - Value'])"
      ],
      "execution_count": 3,
      "outputs": []
    },
    {
      "cell_type": "code",
      "metadata": {
        "id": "NtwK8-kSVU-4"
      },
      "source": [
        "# load hubspot backup data\n",
        "# csv file from hubspot must contain all properties\n",
        "hscon = pd.read_csv('/content/drive/My Drive/00drafts/hubspot-crm-exports-all-contacts-2020-10-03.csv')"
      ],
      "execution_count": 4,
      "outputs": []
    },
    {
      "cell_type": "code",
      "metadata": {
        "id": "GYMvy2ALVU-6"
      },
      "source": [
        "# assign columns to google contacts structure\n",
        "hsgo['Name'] = hscon['First Name'].str.strip() + \" \" + hscon['Last Name'].str.strip()\n",
        "hsgo['Given Name'] = hscon['First Name'].str.strip()\n",
        "hsgo['Additional Name'] = pd.NA\n",
        "hsgo['Family Name'] = hscon['Last Name'].str.strip()\n",
        "hsgo['Yomi Name'] = pd.NA\n",
        "hsgo['Given Name Yomi'] = pd.NA\n",
        "hsgo['Additional Name Yomi'] = pd.NA\n",
        "hsgo['Family Name Yomi'] = pd.NA\n",
        "hsgo['Name Prefix'] = pd.NA\n",
        "hsgo['Name Suffix'] = pd.NA\n",
        "hsgo['Initials'] = pd.NA\n",
        "hsgo['Nickname'] = pd.NA\n",
        "hsgo['Maiden Name'] = pd.NA\n",
        "hsgo['Birthday'] = pd.NA\n",
        "hsgo['Gender'] = pd.NA\n",
        "hsgo['Location'] = pd.NA\n",
        "hsgo['Billing Information'] = pd.NA\n",
        "hsgo['Directory Server'] = pd.NA\n",
        "hsgo['Mileage'] = pd.NA\n",
        "hsgo['Occupation'] = pd.NA\n",
        "hsgo['Hobby'] = pd.NA\n",
        "hsgo['Sensitivity'] = pd.NA\n",
        "hsgo['Priority'] = pd.NA\n",
        "hsgo['Subject'] = pd.NA\n",
        "hsgo['Notes'] = pd.NA\n",
        "hsgo['Language'] = pd.NA\n",
        "hsgo['Photo'] = pd.NA\n",
        "hsgo['Group Membership'] = pd.NA\n",
        "hsgo['E-mail 1 - Type'] = pd.NA\n",
        "hsgo['E-mail 1 - Value'] = hscon['Email']\n",
        "hsgo['E-mail 2 - Type'] = pd.NA\n",
        "hsgo['E-mail 2 - Value'] = pd.NA\n",
        "hsgo['Phone 1 - Type'] = pd.NA\n",
        "hsgo['Phone 1 - Value'] = hscon['Phone Number'].str.strip()\n",
        "hsgo['Phone 2 - Type'] = pd.NA\n",
        "hsgo['Phone 2 - Value'] = pd.NA\n",
        "hsgo['Organization 1 - Type'] = pd.NA\n",
        "hsgo['Organization 1 - Name'] = pd.NA\n",
        "hsgo['Organization 1 - Yomi Name'] = pd.NA\n",
        "hsgo['Organization 1 - Title'] = pd.NA\n",
        "hsgo['Organization 1 - Department'] = pd.NA\n",
        "hsgo['Organization 1 - Symbol'] = pd.NA\n",
        "hsgo['Organization 1 - Location'] = pd.NA\n",
        "hsgo['Organization 1 - Job Description'] = pd.NA\n",
        "hsgo['Relation 1 - Type'] = pd.NA\n",
        "hsgo['Relation 1 - Value'] = pd.NA"
      ],
      "execution_count": 7,
      "outputs": []
    },
    {
      "cell_type": "code",
      "metadata": {
        "id": "9GiGu0jWVU-9"
      },
      "source": [
        "# drop null values on phone number, also it can be applied for null values on emails\n",
        "hsgo = hsgo.dropna(axis='index', subset=['Phone 1 - Value'])\n",
        "# hsgo = hsgo.dropna(axis='index', subset=['E-mail 1 - Value'])"
      ],
      "execution_count": 8,
      "outputs": []
    },
    {
      "cell_type": "code",
      "metadata": {
        "id": "N40U-AwmVU_D"
      },
      "source": [
        "# export clean data to csv in google contact format, the next step is just import this file to google contact account\n",
        "hsgo.to_csv('/content/drive/My Drive/00drafts/hs_contacts_bm_' + str(dt.datetime.now().date().strftime('%Y-%m-%d')) + '_' + str(dt.datetime.now().time().strftime('%H%M%S')) + '.csv',encoding='utf-8',index=False)"
      ],
      "execution_count": 9,
      "outputs": []
    },
    {
      "cell_type": "code",
      "metadata": {
        "id": "raCFunQxVU_F"
      },
      "source": [
        ""
      ],
      "execution_count": null,
      "outputs": []
    }
  ]
}